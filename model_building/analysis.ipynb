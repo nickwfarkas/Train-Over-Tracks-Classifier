{
 "cells": [
  {
   "attachments": {},
   "cell_type": "markdown",
   "metadata": {},
   "source": [
    "# Train Over Tracks Classifier"
   ]
  },
  {
   "attachments": {},
   "cell_type": "markdown",
   "metadata": {},
   "source": [
    "### Reading in Data"
   ]
  },
  {
   "cell_type": "code",
   "execution_count": 12,
   "metadata": {},
   "outputs": [],
   "source": [
    "import pandas as pd\n",
    "import numpy as np\n",
    "from PIL import Image"
   ]
  },
  {
   "cell_type": "code",
   "execution_count": 3,
   "metadata": {},
   "outputs": [],
   "source": [
    "crossing_images = pd.read_csv(\"../data/fullsize_trains.csv\")"
   ]
  },
  {
   "cell_type": "code",
   "execution_count": 20,
   "metadata": {},
   "outputs": [],
   "source": [
    "from sklearn.pipeline import make_pipeline\n",
    "from sklearn.preprocessing import StandardScaler\n",
    "from sklearn.model_selection import train_test_split"
   ]
  },
  {
   "cell_type": "code",
   "execution_count": 21,
   "metadata": {},
   "outputs": [
    {
     "name": "stdout",
     "output_type": "stream",
     "text": [
      "(170,)\n",
      "(170, 331776)\n"
     ]
    }
   ],
   "source": [
    "y = crossing_images[\"331776\"]\n",
    "x = crossing_images.drop([\"331776\",\"Unnamed: 0\"],axis=1)\n",
    "print(y.shape)\n",
    "print(x.shape)"
   ]
  },
  {
   "cell_type": "code",
   "execution_count": 22,
   "metadata": {},
   "outputs": [],
   "source": [
    "x_train, x_test, y_train, y_test = train_test_split(x, y, test_size=0.3,random_state=2023)"
   ]
  },
  {
   "cell_type": "code",
   "execution_count": 23,
   "metadata": {},
   "outputs": [],
   "source": [
    "from sklearn.neural_network import MLPClassifier\n",
    "from sklearn.metrics import confusion_matrix\n",
    "from sklearn import metrics\n",
    "import matplotlib.pyplot as plt"
   ]
  },
  {
   "cell_type": "code",
   "execution_count": 24,
   "metadata": {},
   "outputs": [],
   "source": [
    "input_nodes = x.shape[1]\n",
    "output_nodes = 2\n",
    "n_neurons = int(np.floor(input_nodes/(2*(x.shape[0]+output_nodes))))\n",
    "nn_pipe = make_pipeline(StandardScaler(), MLPClassifier(hidden_layer_sizes=(100,50,25,5),max_iter=500,random_state=20))"
   ]
  },
  {
   "cell_type": "code",
   "execution_count": 28,
   "metadata": {},
   "outputs": [
    {
     "name": "stderr",
     "output_type": "stream",
     "text": [
      "/Users/nicholasfarkas/Downloads/Projects/Train-Over_Tracks/venv/lib/python3.9/site-packages/sklearn/base.py:402: UserWarning: X has feature names, but StandardScaler was fitted without feature names\n",
      "  warnings.warn(\n"
     ]
    },
    {
     "name": "stdout",
     "output_type": "stream",
     "text": [
      "Accuracy: 0.9607843137254902\n",
      "Precision: 0.9230769230769231\n",
      "Recall: 1.0\n",
      "F1-Score: 0.9600000000000001\n",
      "AUC: 0.962962962962963\n"
     ]
    }
   ],
   "source": [
    "nn_pipe.fit(x_train.values,y_train.values)\n",
    "y_pred = nn_pipe.predict(x_test)\n",
    "nn_cm = confusion_matrix(y_test,y_pred)\n",
    "fpr, tpr, thresholds = metrics.roc_curve(y_test, y_pred)\n",
    "roc_auc = metrics.auc(fpr, tpr)\n",
    "\n",
    "print(f\"Accuracy: {metrics.accuracy_score(y_test, y_pred)}\")\n",
    "print(f\"Precision: {metrics.precision_score(y_test, y_pred)}\")\n",
    "print(f\"Recall: {metrics.recall_score(y_test, y_pred)}\")\n",
    "print(f\"F1-Score: {metrics.f1_score(y_test, y_pred)}\")\n",
    "print(f\"AUC: {roc_auc}\")"
   ]
  },
  {
   "cell_type": "code",
   "execution_count": 26,
   "metadata": {},
   "outputs": [],
   "source": [
    "import pickle"
   ]
  },
  {
   "cell_type": "code",
   "execution_count": 29,
   "metadata": {},
   "outputs": [],
   "source": [
    "with open('tot_model', 'wb') as fh:\n",
    "   pickle.dump(nn_pipe, fh)"
   ]
  },
  {
   "cell_type": "code",
   "execution_count": null,
   "metadata": {},
   "outputs": [],
   "source": []
  },
  {
   "cell_type": "code",
   "execution_count": 30,
   "metadata": {},
   "outputs": [
    {
     "data": {
      "text/plain": [
       "['model.joblib']"
      ]
     },
     "execution_count": 30,
     "metadata": {},
     "output_type": "execute_result"
    }
   ],
   "source": [
    "from joblib import dump, load\n",
    "dump(nn_pipe, 'model.joblib')"
   ]
  }
 ],
 "metadata": {
  "kernelspec": {
   "display_name": "venv",
   "language": "python",
   "name": "python3"
  },
  "language_info": {
   "codemirror_mode": {
    "name": "ipython",
    "version": 3
   },
   "file_extension": ".py",
   "mimetype": "text/x-python",
   "name": "python",
   "nbconvert_exporter": "python",
   "pygments_lexer": "ipython3",
   "version": "3.9.7"
  },
  "orig_nbformat": 4,
  "vscode": {
   "interpreter": {
    "hash": "bc2b2d4b92384693002d3d66be2ff2629561fff3a64abdf396aa34f04775ec77"
   }
  }
 },
 "nbformat": 4,
 "nbformat_minor": 2
}
